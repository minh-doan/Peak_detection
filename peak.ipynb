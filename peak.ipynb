{
 "cells": [
  {
   "cell_type": "code",
   "execution_count": null,
   "metadata": {},
   "outputs": [],
   "source": [
    "%matplotlib inline\n",
    "\n",
    "import os\n",
    "os.environ['R_User'] = '/usr/local/lib/python3.6/site-packages'\n",
    "\n",
    "import csv\n",
    "import pandas\n",
    "import numpy\n",
    "import rpy2.robjects as robjects\n",
    "from rpy2.robjects import pandas2ri    \n",
    "from rpy2.robjects.packages import importr\n",
    "import glob\n",
    "\n",
    "import plotly.plotly\n",
    "# print(plotly.__version__)  \n",
    "plotly.offline.init_notebook_mode() # run at the start of every notebook\n",
    "import plotly.graph_objs as go\n",
    "from plotly.tools import FigureFactory as FF\n",
    "import peakutils"
   ]
  },
  {
   "cell_type": "code",
   "execution_count": null,
   "metadata": {},
   "outputs": [],
   "source": [
    "def lowestpoint(series):\n",
    "    return numpy.argmax( numpy.maximum.accumulate(series) - series)"
   ]
  },
  {
   "cell_type": "code",
   "execution_count": null,
   "metadata": {},
   "outputs": [],
   "source": [
    "base = importr('base')"
   ]
  },
  {
   "cell_type": "code",
   "execution_count": null,
   "metadata": {},
   "outputs": [],
   "source": [
    "directory = '/Users/minhdoan/Desktop/AV_ori_original/'"
   ]
  },
  {
   "cell_type": "code",
   "execution_count": null,
   "metadata": {},
   "outputs": [],
   "source": [
    "files = glob.glob(os.path.join(directory,\"*\"))"
   ]
  },
  {
   "cell_type": "code",
   "execution_count": null,
   "metadata": {},
   "outputs": [],
   "source": [
    "# files = [\"/Users/minhdoan/Desktop/AV_ori_original/1_67169001_67206250.RData\"]"
   ]
  },
  {
   "cell_type": "code",
   "execution_count": null,
   "metadata": {
    "scrolled": false
   },
   "outputs": [],
   "source": [
    "eachfile = []\n",
    "for file in files:\n",
    "    #print(os.path.basename(file))\n",
    "    base.load(file)\n",
    "    array = numpy.array(base.mget(base.ls()) )\n",
    "    \n",
    "    a = array[0][0:7,:]\n",
    "    series_peaks = numpy.amax(a,axis = 0)\n",
    "    \n",
    "    cb_peak = numpy.array(series_peaks)\n",
    "    indices_peaks = peakutils.indexes(cb_peak, thres=0.60, min_dist=700)\n",
    "    \n",
    "    \n",
    "    series_valleys = -numpy.amax(a,axis = 0)\n",
    "    cb_valley = numpy.array(series_valleys)\n",
    "    indices_valleys = peakutils.indexes(cb_valley, thres=0.70, min_dist=700)\n",
    "    \n",
    "    starts = []\n",
    "    ends = []   \n",
    "    \n",
    "    if len(indices_valleys) > 0:       \n",
    "        \n",
    "        # Find the closest foot of the hill: this is index in the valleys series, NOT index of the peaks series\n",
    "        idx = [(numpy.abs(indices_valleys - peak)).argmin() for peak in indices_peaks]\n",
    "          \n",
    "        for i, index in enumerate(idx):\n",
    "\n",
    "            #--- Find the start ---#           \n",
    "            if indices_valleys[index] > indices_peaks[i]:\n",
    "                if index - 1 >= 0:\n",
    "                    starts.append( indices_valleys[index-1] )\n",
    "                else:\n",
    "                    starts.append( lowestpoint(series_peaks[:indices_peaks[i]]) )\n",
    "            else:\n",
    "                starts.append( indices_valleys[index] )\n",
    "\n",
    "            #--- Find the end ---# \n",
    "            if indices_valleys[index] > indices_peaks[i]:\n",
    "                ends.append( indices_valleys[index] )\n",
    "            else:               \n",
    "                try: # when the next valley is available\n",
    "                    ends.append(indices_valleys[index + 1])                                \n",
    "                except: # when already used up the last valley\n",
    "                    ends.append( indices_peaks[i] + lowestpoint(series_peaks[indices_peaks[i]:]) )                    \n",
    "                \n",
    "                \n",
    "    else:         \n",
    "        for i in indices_peaks:\n",
    "            \n",
    "            starts.append( lowestpoint(series_peaks[:i]) )\n",
    "            ends.append( lowestpoint(series_peaks[i:]) )\n",
    "\n",
    "            \n",
    "    peak_start_end = []  \n",
    "    for i,j in enumerate(indices_peaks):\n",
    "        peak_start_end.append([j, starts[i], ends[i]])\n",
    "    \n",
    "    eachfile.append([os.path.basename(file),peak_start_end])\n",
    "    del(peak_start_end,starts,ends,indices_peaks,indices_valleys,cb_peak,cb_valley,series_peaks,series_valleys,array,a)"
   ]
  },
  {
   "cell_type": "code",
   "execution_count": null,
   "metadata": {},
   "outputs": [],
   "source": [
    "with open(\"filenames_peak_start_end.csv\",\"w\",newline=\"\") as f:  # open(\"output.csv\",\"wb\") for Python 2\n",
    "    cw = csv.writer(f)\n",
    "    cw.writerows(r+[\"\"] for r in eachfile)"
   ]
  },
  {
   "cell_type": "code",
   "execution_count": null,
   "metadata": {},
   "outputs": [],
   "source": []
  },
  {
   "cell_type": "markdown",
   "metadata": {},
   "source": [
    "# Visualization"
   ]
  },
  {
   "cell_type": "code",
   "execution_count": null,
   "metadata": {},
   "outputs": [],
   "source": [
    "trace1 = go.Scatter(\n",
    "    x=[j for j in range(array[0].shape[1]) ],\n",
    "    y=series_peaks,\n",
    "    mode='lines',\n",
    "    name='Original Plot'\n",
    ")\n",
    "\n",
    "trace2 = go.Scatter(\n",
    "    x=indices_peaks,\n",
    "    y=[series_peaks[j] for j in indices_peaks],\n",
    "    mode='markers',\n",
    "    marker=dict(\n",
    "        size=8,\n",
    "        color='rgb(255,0,0)',\n",
    "        symbol='cross'\n",
    "    ),\n",
    "    name='Detected Peaks'\n",
    ")\n",
    "\n",
    "# data = [trace1, trace2]\n",
    "# plotly.offline.iplot(data, filename='plot-with-peaks')"
   ]
  },
  {
   "cell_type": "code",
   "execution_count": null,
   "metadata": {},
   "outputs": [],
   "source": [
    "trace3 = go.Scatter(\n",
    "    x=[j for j in range(array[0].shape[1]) ],\n",
    "    y=series_valleys,\n",
    "    mode='lines',\n",
    "    name='Original Plot'\n",
    ")\n",
    "\n",
    "trace4 = go.Scatter(\n",
    "    x=indices_valleys,\n",
    "    y=[series_valleys[j] for j in indices_valleys],\n",
    "    mode='markers',\n",
    "    marker=dict(\n",
    "        size=8,\n",
    "        color='rgb(255,0,0)',\n",
    "        symbol='cross'\n",
    "    ),\n",
    "    name='Detected Valleys'\n",
    ")\n",
    "\n",
    "# data = [trace3, trace4]\n",
    "# plotly.offline.iplot(data, filename='plot-with-valleys')"
   ]
  },
  {
   "cell_type": "code",
   "execution_count": null,
   "metadata": {
    "scrolled": false
   },
   "outputs": [],
   "source": [
    "trace5 = go.Scatter(\n",
    "    x=starts,\n",
    "    y=[series_peaks[j] for j in starts],\n",
    "    mode='markers',\n",
    "    marker=dict(\n",
    "        size=8,\n",
    "        color='rgb(255,0,255)',\n",
    "        symbol='cross'\n",
    "    ),\n",
    "    name='Detected Starts'\n",
    ")\n",
    "\n",
    "trace6 = go.Scatter(\n",
    "    x=ends,\n",
    "    y=[series_peaks[j] for j in ends],\n",
    "    mode='markers',\n",
    "    marker=dict(\n",
    "        size=8,\n",
    "        color='rgb(0,255,255)',\n",
    "        symbol='cross'\n",
    "    ),\n",
    "    name='Detected Ends'\n",
    ")\n",
    "\n",
    "\n",
    "data = [trace1, trace2, trace5, trace6]\n",
    "plotly.offline.iplot(data, filename='plot-with-peaks_ends')"
   ]
  },
  {
   "cell_type": "code",
   "execution_count": null,
   "metadata": {},
   "outputs": [],
   "source": [
    "eachfile"
   ]
  },
  {
   "cell_type": "code",
   "execution_count": null,
   "metadata": {},
   "outputs": [],
   "source": []
  }
 ],
 "metadata": {
  "kernelspec": {
   "display_name": "Python 3",
   "language": "python",
   "name": "python3"
  },
  "language_info": {
   "codemirror_mode": {
    "name": "ipython",
    "version": 3
   },
   "file_extension": ".py",
   "mimetype": "text/x-python",
   "name": "python",
   "nbconvert_exporter": "python",
   "pygments_lexer": "ipython3",
   "version": "3.6.4"
  }
 },
 "nbformat": 4,
 "nbformat_minor": 2
}
